{
 "cells": [
  {
   "cell_type": "code",
   "execution_count": 1,
   "metadata": {},
   "outputs": [],
   "source": [
    "import numpy as np\n",
    "import csv\n",
    "import matplotlib.pyplot as plt"
   ]
  },
  {
   "attachments": {},
   "cell_type": "markdown",
   "metadata": {},
   "source": [
    "# Load data"
   ]
  },
  {
   "cell_type": "code",
   "execution_count": 2,
   "metadata": {},
   "outputs": [],
   "source": [
    "fields = {\n",
    "    'Marital status',\n",
    "    'Application mode',\n",
    "    'Application order',\n",
    "    'Course',\n",
    "    'Daytime/evening attendance\\t',\n",
    "    'Previous qualification',\n",
    "    'Previous qualification (grade)',\n",
    "    'Nacionality',\n",
    "    \"Mother's qualification\",\n",
    "    \"Father's qualification\",\n",
    "    \"Mother's occupation\",\n",
    "    \"Father's occupation\",\n",
    "    'Admission grade',\n",
    "    'Displaced',\n",
    "    'Educational special needs',\n",
    "    'Debtor',\n",
    "    'Tuition fees up to date',\n",
    "    'Gender',\n",
    "    'Scholarship holder',\n",
    "    'Age at enrollment',\n",
    "    'International',\n",
    "    'Curricular units 1st sem (credited)',\n",
    "    'Curricular units 1st sem (enrolled)',\n",
    "    'Curricular units 1st sem (evaluations)',\n",
    "    'Curricular units 1st sem (approved)',\n",
    "    'Curricular units 1st sem (grade)',\n",
    "    'Curricular units 1st sem (without evaluations)',\n",
    "    'Curricular units 2nd sem (credited)',\n",
    "    'Curricular units 2nd sem (enrolled)',\n",
    "    'Curricular units 2nd sem (evaluations)',\n",
    "    'Curricular units 2nd sem (approved)',\n",
    "    'Curricular units 2nd sem (grade)',\n",
    "    'Curricular units 2nd sem (without evaluations)',\n",
    "    'Unemployment rate',\n",
    "    'Inflation rate',\n",
    "    'GDP',\n",
    "}\n",
    "\n",
    "def load_student_data(path_data='data/student-dropout/data.csv'):\n",
    "    '''\n",
    "    Load dataset and remove 'Enrolled' target\n",
    "    '''\n",
    "    data = []\n",
    "    with open(path_data, encoding='utf-8-sig') as f_data:\n",
    "        for datum in csv.DictReader(f_data, delimiter=';'):\n",
    "            remove = False\n",
    "            for field in list(datum.keys()):\n",
    "                if field in fields and datum[field]:\n",
    "                    datum[field] = float(datum[field])\n",
    "                if field == 'Target':\n",
    "                    if datum[field] == 'Enrolled':\n",
    "                        remove = True\n",
    "                    elif datum[field] == 'Dropout':\n",
    "                        datum[field] = -1.\n",
    "                    else: # 'Graduated'\n",
    "                        datum[field] = 1.\n",
    "            if not remove: \n",
    "                data.append(datum)\n",
    "    return data"
   ]
  },
  {
   "cell_type": "code",
   "execution_count": 3,
   "metadata": {},
   "outputs": [
    {
     "name": "stdout",
     "output_type": "stream",
     "text": [
      "Number of examples: 3630\n",
      "An example:\n"
     ]
    },
    {
     "data": {
      "text/plain": [
       "{'Marital status': 1.0,\n",
       " 'Application mode': 17.0,\n",
       " 'Application order': 3.0,\n",
       " 'Course': 9238.0,\n",
       " 'Daytime/evening attendance\\t': 1.0,\n",
       " 'Previous qualification': 1.0,\n",
       " 'Previous qualification (grade)': 131.0,\n",
       " 'Nacionality': 1.0,\n",
       " \"Mother's qualification\": 1.0,\n",
       " \"Father's qualification\": 39.0,\n",
       " \"Mother's occupation\": 5.0,\n",
       " \"Father's occupation\": 3.0,\n",
       " 'Admission grade': 122.6,\n",
       " 'Displaced': 1.0,\n",
       " 'Educational special needs': 0.0,\n",
       " 'Debtor': 0.0,\n",
       " 'Tuition fees up to date': 1.0,\n",
       " 'Gender': 0.0,\n",
       " 'Scholarship holder': 0.0,\n",
       " 'Age at enrollment': 18.0,\n",
       " 'International': 0.0,\n",
       " 'Curricular units 1st sem (credited)': 0.0,\n",
       " 'Curricular units 1st sem (enrolled)': 6.0,\n",
       " 'Curricular units 1st sem (evaluations)': 7.0,\n",
       " 'Curricular units 1st sem (approved)': 6.0,\n",
       " 'Curricular units 1st sem (grade)': 13.0,\n",
       " 'Curricular units 1st sem (without evaluations)': 0.0,\n",
       " 'Curricular units 2nd sem (credited)': 0.0,\n",
       " 'Curricular units 2nd sem (enrolled)': 6.0,\n",
       " 'Curricular units 2nd sem (evaluations)': 6.0,\n",
       " 'Curricular units 2nd sem (approved)': 6.0,\n",
       " 'Curricular units 2nd sem (grade)': 13.666666666666666,\n",
       " 'Curricular units 2nd sem (without evaluations)': 0.0,\n",
       " 'Unemployment rate': 12.4,\n",
       " 'Inflation rate': 0.5,\n",
       " 'GDP': 1.79,\n",
       " 'Target': 1.0}"
      ]
     },
     "execution_count": 3,
     "metadata": {},
     "output_type": "execute_result"
    }
   ],
   "source": [
    "student_data = load_student_data()\n",
    "print('Number of examples:', len(student_data))\n",
    "print('An example:')\n",
    "student_data[100]"
   ]
  },
  {
   "attachments": {},
   "cell_type": "markdown",
   "metadata": {},
   "source": [
    "## Feature transforms"
   ]
  },
  {
   "cell_type": "code",
   "execution_count": 4,
   "metadata": {},
   "outputs": [],
   "source": [
    "def std_vals(data, f):\n",
    "    vals = [entry[f] for entry in data]\n",
    "    avg = sum(vals) / len(vals)\n",
    "    dev = [(entry[f] - avg)**2 for entry in data]\n",
    "    sd = (sum(dev) / len(vals))**0.5\n",
    "    return avg, sd"
   ]
  },
  {
   "cell_type": "code",
   "execution_count": 5,
   "metadata": {},
   "outputs": [],
   "source": [
    "def standard(v, std):\n",
    "    return [(v - std[0]) / std[1]]"
   ]
  },
  {
   "cell_type": "code",
   "execution_count": 6,
   "metadata": {},
   "outputs": [],
   "source": [
    "def raw(x):\n",
    "    return [x]"
   ]
  },
  {
   "cell_type": "code",
   "execution_count": 7,
   "metadata": {},
   "outputs": [],
   "source": [
    "def one_hot(v, entries):\n",
    "    '''\n",
    "    v -- value\n",
    "    entries -- possible values\n",
    "    '''\n",
    "    vec = len(entries) * [0]\n",
    "    vec[entries.index(v)] = 1\n",
    "    return vec"
   ]
  },
  {
   "attachments": {},
   "cell_type": "markdown",
   "metadata": {},
   "source": [
    "## Preprocess data"
   ]
  },
  {
   "cell_type": "code",
   "execution_count": 8,
   "metadata": {},
   "outputs": [],
   "source": [
    "features = [\n",
    "    ('Marital status', one_hot),\n",
    "    ('Application mode', one_hot),\n",
    "    ('Application order', raw),\n",
    "    ('Course', one_hot),\n",
    "    ('Daytime/evening attendance\\t', raw),\n",
    "    ('Previous qualification', one_hot),\n",
    "    ('Previous qualification (grade)', standard),\n",
    "    ('Nacionality', one_hot),\n",
    "    (\"Mother's qualification\", one_hot),\n",
    "    (\"Father's qualification\", one_hot),\n",
    "    (\"Mother's occupation\", one_hot),\n",
    "    (\"Father's occupation\", one_hot),\n",
    "    ('Admission grade', standard),\n",
    "    ('Displaced', raw),\n",
    "    ('Educational special needs', raw),\n",
    "    ('Debtor', raw),\n",
    "    ('Tuition fees up to date', raw),\n",
    "    ('Gender', raw),\n",
    "    ('Scholarship holder', raw),\n",
    "    ('Age at enrollment', raw),\n",
    "    ('International', raw),\n",
    "    ('Curricular units 1st sem (credited)', raw),\n",
    "    ('Curricular units 1st sem (enrolled)', raw),\n",
    "    ('Curricular units 1st sem (evaluations)', raw),\n",
    "    ('Curricular units 1st sem (approved)', raw),\n",
    "    ('Curricular units 1st sem (grade)', raw),\n",
    "    ('Curricular units 1st sem (without evaluations)', raw),\n",
    "    ('Curricular units 2nd sem (credited)', raw),\n",
    "    ('Curricular units 2nd sem (enrolled)', raw),\n",
    "    ('Curricular units 2nd sem (evaluations)', raw),\n",
    "    ('Curricular units 2nd sem (approved)', raw),\n",
    "    ('Curricular units 2nd sem (grade)', raw),\n",
    "    ('Curricular units 2nd sem (without evaluations)', raw),\n",
    "    ('Unemployment rate', standard),\n",
    "    ('Inflation rate', standard),\n",
    "    ('GDP', standard),\n",
    "]"
   ]
  },
  {
   "cell_type": "code",
   "execution_count": 9,
   "metadata": {},
   "outputs": [],
   "source": [
    "def preprocess(data, features, verbose=True):\n",
    "    features = [('Target', raw)] + features\n",
    "    std = {f : std_vals(data, f) \\\n",
    "           for (f,phi) in features if phi == standard}\n",
    "    entries = {f : list(set([entry[f] for entry in data])) \\\n",
    "               for (f, phi) in features if phi == one_hot} \n",
    "    if verbose: print('Mean and Std:', std)\n",
    "    if verbose: print('Entries in one_hot field:', entries)\n",
    "    \n",
    "    findex = 0\n",
    "    # Print the meaning of features\n",
    "    for (f, phi) in features[1:]: # skip 'Target'\n",
    "        if phi == standard:\n",
    "            if verbose: print(findex, f, 'std')\n",
    "            findex += 1\n",
    "        elif phi == one_hot:\n",
    "            for entry in entries[f]:\n",
    "                if verbose: print(findex, f, entry, 'one_hot')\n",
    "                findex += 1\n",
    "        else:\n",
    "            if verbose: print(findex, f, 'raw')\n",
    "            findex += 1\n",
    "\n",
    "    vals = []\n",
    "    for entry in data:\n",
    "        phis = []\n",
    "        for (f, phi) in features:\n",
    "            if phi == standard:\n",
    "                phis.extend(phi(entry[f], std[f]))\n",
    "            elif phi == one_hot:\n",
    "                phis.extend(phi(entry[f], entries[f]))\n",
    "            else:\n",
    "                phis.extend(phi(entry[f]))\n",
    "        vals.append(np.array([phis])) # phis of shape (1,D)\n",
    "    \n",
    "    data = np.vstack(vals)\n",
    "    np.random.seed(0)\n",
    "    np.random.shuffle(data)\n",
    "    return data[:, 1:], data[:, 0:1]\n"
   ]
  },
  {
   "cell_type": "code",
   "execution_count": 10,
   "metadata": {},
   "outputs": [
    {
     "name": "stdout",
     "output_type": "stream",
     "text": [
      "\n",
      "Data shape: (3630, 238)\n",
      "Labels shape: (3630, 1)\n"
     ]
    }
   ],
   "source": [
    "X, y = preprocess(student_data, features, verbose=False)\n",
    "print('\\nData shape:', X.shape)\n",
    "print('Labels shape:', y.shape)"
   ]
  },
  {
   "attachments": {},
   "cell_type": "markdown",
   "metadata": {},
   "source": [
    "## Train/Test split"
   ]
  },
  {
   "cell_type": "code",
   "execution_count": 11,
   "metadata": {},
   "outputs": [],
   "source": [
    "def random_split(data, labels, test_pct=0.2, seed=None):\n",
    "    if seed and isinstance(seed, int):\n",
    "        np.random.seed(seed)\n",
    "    n, d = data.shape\n",
    "    idxs = np.random.permutation(n)\n",
    "    split_pt = int((1 - test_pct) * n)\n",
    "    train_idxs, test_idxs = idxs[:split_pt], idxs[split_pt:]\n",
    "    X_train, y_train = data[train_idxs, :], labels[train_idxs, :]\n",
    "    X_test, y_test = data[test_idxs, :], labels[test_idxs, :]\n",
    "    return X_train, y_train, X_test, y_test"
   ]
  },
  {
   "cell_type": "code",
   "execution_count": 12,
   "metadata": {},
   "outputs": [],
   "source": [
    "def stratified_split(data, labels, test_pct=0.2, seed=None):\n",
    "    if seed and isinstance(seed, int):\n",
    "        np.random.seed(seed)\n",
    "    unique_labels, label_counts = np.unique(labels, return_counts=True)\n",
    "    test_label_counts = (label_counts * test_pct).astype(int)\n",
    "    train_label_counts = label_counts - test_label_counts\n",
    "    train_idxs, test_idxs = [], []\n",
    "    for label, train_count, test_count in zip(unique_labels, train_label_counts, test_label_counts):\n",
    "        label_idxs = np.where(labels == label)[0] # return an array of indexes\n",
    "        permuted_idxs = np.random.permutation(label_idxs)\n",
    "        train_idxs.extend(permuted_idxs[:train_count])\n",
    "        test_idxs.extend(permuted_idxs[train_count:train_count+test_count])\n",
    "    X_train, y_train = data[train_idxs], labels[train_idxs]\n",
    "    X_test, y_test = data[test_idxs], labels[test_idxs]\n",
    "    return X_train, y_train, X_test, y_test"
   ]
  },
  {
   "cell_type": "code",
   "execution_count": 13,
   "metadata": {},
   "outputs": [],
   "source": [
    "# X_train, y_train, X_test, y_test = random_split(X, y)\n",
    "X_train, y_train, X_test, y_test = stratified_split(X, y)"
   ]
  },
  {
   "cell_type": "code",
   "execution_count": 14,
   "metadata": {},
   "outputs": [
    {
     "name": "stdout",
     "output_type": "stream",
     "text": [
      "Train labels:\n",
      "  -1.0 appears 1137 times - 39.14%\n",
      "  1.0 appears 1768 times - 60.86%\n",
      "Test labels:\n",
      "  -1.0 appears 284 times - 39.17%\n",
      "  1.0 appears 441 times - 60.83%\n"
     ]
    },
    {
     "data": {
      "image/png": "[encoded data removed]",
      "text/plain": [
       "<Figure size 864x360 with 2 Axes>"
      ]
     },
     "metadata": {
      "needs_background": "light"
     },
     "output_type": "display_data"
    }
   ],
   "source": [
    "def value_counts(y):\n",
    "    vals, cnts = np.unique(y, return_counts=True)\n",
    "    probs = cnts / np.sum(cnts)\n",
    "    for value, count, prob in zip(vals, cnts, probs):\n",
    "        print(f\"  {value} appears {count} times - {prob*100:.2f}%\")\n",
    "    return vals, cnts, probs\n",
    "\n",
    "print('Train labels:')\n",
    "train_vals, train_cnts, train_probs = value_counts(y_train)\n",
    "print('Test labels:')\n",
    "test_vals, test_cnts, test_probs = value_counts(y_test)\n",
    "\n",
    "fig, (ax1, ax2) = plt.subplots(1, 2, figsize=(12, 5))\n",
    "    \n",
    "ax1.bar(train_vals, train_probs)\n",
    "ax1.set_title(\"Training set\")\n",
    "ax1.set_xlabel(\"Unique value\")\n",
    "ax1.set_ylabel(\"Probability\")\n",
    "\n",
    "ax2.bar(test_vals, test_probs)\n",
    "ax2.set_title(\"Testing set\")\n",
    "ax2.set_xlabel(\"Unique value\")\n",
    "ax2.set_ylabel(\"Probability\")\n",
    "\n",
    "plt.show()"
   ]
  },
  {
   "attachments": {},
   "cell_type": "markdown",
   "metadata": {},
   "source": [
    "# Metrics"
   ]
  },
  {
   "cell_type": "code",
   "execution_count": 15,
   "metadata": {},
   "outputs": [],
   "source": [
    "# Calculate accuracy\n",
    "def accuracy(y_pred, y_true):\n",
    "    return np.sum(y_true == y_pred) / len(y_true)\n",
    "\n",
    "# Calculate precision\n",
    "def precision(y_pred, y_true):\n",
    "    class_labels = np.unique(y_true)  # Get unique class labels\n",
    "    precision_scores = []\n",
    "    for label in class_labels:\n",
    "        TP = np.sum(np.logical_and(y_pred == label, y_true == label))\n",
    "        FP = np.sum(np.logical_and(y_pred == label, y_true != label))\n",
    "        precision = TP / (TP + FP)\n",
    "        precision_scores.append(precision)\n",
    "    average_precision = np.mean(precision_scores)\n",
    "    return average_precision\n",
    "\n",
    "# Calculate recall\n",
    "def recall(y_pred, y_true):\n",
    "    class_labels = np.unique(y_true)  # Get unique class labels\n",
    "    recall_scores = []\n",
    "    for label in class_labels:\n",
    "        TP = np.sum(np.logical_and(y_pred == label, y_true == label))\n",
    "        FN = np.sum(np.logical_and(y_pred != label, y_true == label))\n",
    "        recall = TP / (TP + FN)\n",
    "        recall_scores.append(recall)\n",
    "    average_recall = np.mean(recall_scores)\n",
    "    return average_recall\n",
    "\n",
    "# Calculate F1 score\n",
    "def f1(y_pred, y_true):\n",
    "    class_labels = np.unique(y_true)  # Get unique class labels\n",
    "    f1_scores = []\n",
    "    for label in class_labels:\n",
    "        TP = np.sum(np.logical_and(y_pred == label, y_true == label))\n",
    "        FP = np.sum(np.logical_and(y_pred == label, y_true != label))\n",
    "        FN = np.sum(np.logical_and(y_pred != label, y_true == label))\n",
    "        precision = TP / (TP + FP)\n",
    "        recall = TP / (TP + FN)\n",
    "        f1 = 2 * (precision * recall) / (precision + recall)\n",
    "        f1_scores.append(f1)\n",
    "    average_f1 = np.mean(f1_scores)\n",
    "    return average_f1\n",
    "\n",
    "# Confusion matrix\n",
    "def confusion_matrix():\n",
    "    pass"
   ]
  },
  {
   "attachments": {},
   "cell_type": "markdown",
   "metadata": {},
   "source": [
    "# Models"
   ]
  },
  {
   "attachments": {},
   "cell_type": "markdown",
   "metadata": {},
   "source": [
    "## Decision Tree"
   ]
  },
  {
   "cell_type": "code",
   "execution_count": 16,
   "metadata": {},
   "outputs": [],
   "source": [
    "# Decision tree node class\n",
    "class DTNode:\n",
    "    N_THRESHOLD = 4 # don't split if node has fewer examples than this\n",
    "    H_THRESHOLD = .01 # don't split if node has entropy less than this\n",
    "    H_REDUCTION_THRESHOLD = .001 # don't split if entropy reduction is less than this\n",
    "    index = 0\n",
    "\n",
    "    def __init__(self, data=None, config=None):\n",
    "        self.config = config\n",
    "        if config != None:\n",
    "            self.N_THRESHOLD = config[0]\n",
    "            self.H_THRESHOLD = config[1]\n",
    "            self.H_REDUCTION_THRESHOLD = config[2]\n",
    "        \n",
    "        DTNode.index += 1\n",
    "        self.index = DTNode.index # node has unique number\n",
    "        self.data = data\n",
    "        self.prob = None\n",
    "        if data is not None:\n",
    "            self.n = float(data.shape[0]) # number of examples\n",
    "            self.indices = range(data.shape[1] - 1) # feature indices\n",
    "            self.set_h()\n",
    "\n",
    "        self.splits = {}\n",
    "\n",
    "        self.feat_id = None # feature index\n",
    "        self.thres = None # threshold\n",
    "        self.lchild = None # left child\n",
    "        self.rchild = None # right child\n",
    "        self.parent = None\n",
    "\n",
    "    # Create split on feature 'i' at value 'th'\n",
    "    def split(self, i, th):\n",
    "        self.feat_id = i\n",
    "        self.thres = th\n",
    "        self.lchild = DTNode(self.data[self.data[:, i] < th], self.config)\n",
    "        self.rchild = DTNode(self.data[self.data[:, i] >= th], self.config)\n",
    "        self.splits[i].remove(th)\n",
    "\n",
    "    # Evaluate candidate split by weighted average entropy\n",
    "    def split_eval(self, i, th):\n",
    "        lc = DTNode(self.data[self.data[:, i] < th], self.config)\n",
    "        rc = DTNode(self.data[self.data[:, i] >= th], self.config)\n",
    "        pl = lc.n / self.n\n",
    "        pr = 1.0 - pl\n",
    "        avgH = pl * lc.H + pr * rc.H\n",
    "        return avgH, lc, rc\n",
    "    \n",
    "    # Entropy of class labels in this node, assumes 1, -1\n",
    "    def set_h(self):\n",
    "        b = .001\n",
    "        npos = np.sum(self.data[:,-1] == 1) # count labels 1\n",
    "        p = (npos + b) / (self.n + b + b)\n",
    "        self.prob = p\n",
    "        self.H = -p * np.log(p) - (1-p) * np.log(1-p)\n",
    "\n",
    "    def build_tree(self):\n",
    "        if self.H < self.H_THRESHOLD or self.n <= self.N_THRESHOLD:\n",
    "            return\n",
    "        # Find the best split\n",
    "        (i, th, (h, lc, rc)) = argmax([(i, th, self.split_eval(i, th)) \\\n",
    "                                            for i in self.indices \\\n",
    "                                            for th in self.get_splits(i)],\n",
    "                                        lambda x : -x[2][0]) # x = (a, b, (h, c, d))\n",
    "        \n",
    "        if (self.H - h) < self.H_REDUCTION_THRESHOLD:\n",
    "            return\n",
    "        # Recurse\n",
    "        self.feat_id = i\n",
    "        self.thres = th\n",
    "        self.lchild = lc\n",
    "        self.rchild = rc\n",
    "        self.lchild.parent = self\n",
    "        self.rchild.parent = self\n",
    "        self.lchild.build_tree()\n",
    "        self.rchild.build_tree()\n",
    "    \n",
    "    # Sort examples and return middle points between every two consecutive sampes\n",
    "    def get_splits(self, i):\n",
    "        if i not in self.splits:\n",
    "            d = np.sort(np.unique(self.data[:,i]), axis=None)\n",
    "            d1 = d[:-1]\n",
    "            d2 = d[1:]\n",
    "            self.splits[i] = (d1 + d2) / 2.0\n",
    "        return self.splits[i]\n",
    "\n",
    "    # Classify a data point\n",
    "    def classify(self, x):\n",
    "        if self.feat_id == None: # leaf node\n",
    "            return self.prob\n",
    "        elif x[self.feat_id] < self.thres:\n",
    "            return self.lchild.classify(x) # go to left child\n",
    "        else:\n",
    "            return self.rchild.classify(x) # go to right child\n",
    "        \n",
    "    def display(self, depth=0, max_depth=3):\n",
    "        if depth > max_depth:\n",
    "            print(depth*'  ', 'Depth >', max_depth)\n",
    "        if self.feat_id is None:\n",
    "            print(depth*'  ', '=>', '%.2f'%self.prob, '[ n=', self.n, ']')\n",
    "            return\n",
    "        print(depth*'  ', 'Ft.', self.feat_id, '<', self.thres, '[ n=', self.n, ']')\n",
    "        self.lchild.display(depth+1, max_depth)\n",
    "        self.rchild.display(depth+1, max_depth)\n",
    "\n",
    "def argmax(l, f):\n",
    "    \"\"\"\n",
    "    Return the element in list l that gives highest value on f\n",
    "\n",
    "    @param l: C{List} of items\n",
    "    @param f: C{Procedure} that maps an item into a numeric score\n",
    "    @returns: the element of C{l} that has the highest score\n",
    "    \"\"\"\n",
    "    vals = [f(x) for x in l]\n",
    "    return l[vals.index(max(vals))]"
   ]
  },
  {
   "cell_type": "code",
   "execution_count": 17,
   "metadata": {},
   "outputs": [],
   "source": [
    "class DecisionTree:\n",
    "    def fit(self, X, Y, config=None):\n",
    "        D = np.hstack([X,Y])\n",
    "        self.root = DTNode(D, config)\n",
    "        self.root.build_tree()\n",
    "    def predict(self, X):\n",
    "        pred = np.array([np.apply_along_axis(self.root.classify, 1, X)]).T - 0.5\n",
    "        pred[pred >= 0] = 1\n",
    "        pred[pred < 0] = -1\n",
    "        return pred\n",
    "    def display(self, depth=0, max_depth=3):\n",
    "        self.root.display(depth, max_depth)"
   ]
  },
  {
   "attachments": {},
   "cell_type": "markdown",
   "metadata": {},
   "source": [
    "## Bagging"
   ]
  },
  {
   "cell_type": "code",
   "execution_count": 18,
   "metadata": {},
   "outputs": [],
   "source": [
    "class Bagging:\n",
    "    def __init__(self, num_trees=5):\n",
    "        self.ntrees = num_trees\n",
    "        self.trees = []\n",
    "    def fit(self, X, Y, config=None):\n",
    "        for i in range(self.ntrees):\n",
    "            # perms = np.random.permutation(len(X))\n",
    "            idxs = np.random.choice(len(X), size=len(X), replace=True)\n",
    "            X_train = X[idxs, :]\n",
    "            Y_train = Y[idxs, :]\n",
    "            dt = DecisionTree()\n",
    "            dt.fit(X_train, Y_train, config)\n",
    "            self.trees.append(dt)\n",
    "    def predict(self, X):\n",
    "        preds = []\n",
    "        if len(self.trees) == 0: return None\n",
    "        for dt in self.trees:\n",
    "            pred = dt.predict(X)\n",
    "            preds.append(pred)\n",
    "        preds = np.hstack(preds)\n",
    "        return np.sign(preds.mean(axis=1, keepdims=True))"
   ]
  },
  {
   "attachments": {},
   "cell_type": "markdown",
   "metadata": {},
   "source": [
    "## Random Forest"
   ]
  },
  {
   "cell_type": "code",
   "execution_count": 19,
   "metadata": {},
   "outputs": [],
   "source": [
    "class RandomForest:\n",
    "    def __init__(self, num_trees=5, num_features=None):\n",
    "        self.ntrees = num_trees\n",
    "        self.nfeats = num_features\n",
    "        self.trees = []\n",
    "        self.feats = []\n",
    "    \n",
    "    def fit(self, X, Y, config=None):\n",
    "        for i in range(self.ntrees):\n",
    "            idxs = np.random.choice(len(X), size=len(X), replace=True)\n",
    "            if self.nfeats is not None:\n",
    "                features = np.random.choice(X.shape[1], size=self.nfeats, replace=False)\n",
    "                X_train = X[idxs][:, features]\n",
    "                self.feats.append(features)\n",
    "            else:\n",
    "                X_train = X[idxs]\n",
    "            Y_train = Y[idxs]\n",
    "            dt = DecisionTree()\n",
    "            dt.fit(X_train, Y_train, config)\n",
    "            self.trees.append(dt)\n",
    "    \n",
    "    def predict(self, X):\n",
    "        preds = []\n",
    "        if len(self.trees) == 0:\n",
    "            return None\n",
    "        for i in range(len(self.trees)):\n",
    "            dt = self.trees[i]\n",
    "            if self.nfeats is not None:\n",
    "                features = self.feats[i]\n",
    "                X_test = X[:, features]\n",
    "            else:\n",
    "                X_test = X\n",
    "                \n",
    "            pred = dt.predict(X_test)\n",
    "            preds.append(pred)\n",
    "        preds = np.hstack(preds)\n",
    "        return np.sign(np.mean(preds, axis=1, keepdims=True))"
   ]
  },
  {
   "cell_type": "code",
   "execution_count": 20,
   "metadata": {},
   "outputs": [],
   "source": [
    "def evaluate(model_class, X_train, Y_train, X_test, Y_test, max_depth=5, verbose=True, config=None, args=None):\n",
    "    if args:\n",
    "        model = model_class(*args)\n",
    "    else:\n",
    "        model = model_class()\n",
    "    model.fit(X_train, Y_train, config)\n",
    "    pred_test = model.predict(X_test)\n",
    "    acc_s = accuracy(pred_test, Y_test)\n",
    "    prec_s = precision(pred_test, Y_test)\n",
    "    rec_s = recall(pred_test, Y_test)\n",
    "    f1_s = f1(pred_test, Y_test)\n",
    "    if verbose:\n",
    "        print(f'  Accuracy  : {acc_s:.5f}')\n",
    "        print(f'  Precision : {prec_s:.5f}')\n",
    "        print(f'  Recall    : {rec_s:.5f}')\n",
    "        print(f'  F1        : {f1_s:.5f}')\n",
    "        if isinstance(model, DecisionTree): \n",
    "            model.display(max_depth=max_depth)\n",
    "    return acc_s, prec_s, rec_s, f1_s"
   ]
  },
  {
   "cell_type": "code",
   "execution_count": 64,
   "metadata": {},
   "outputs": [
    {
     "name": "stdout",
     "output_type": "stream",
     "text": [
      "Round: 1\n",
      "  Accuracy  : 0.90706\n",
      "  Precision : 0.91229\n",
      "  Recall    : 0.89006\n",
      "  F1        : 0.89890\n",
      "Round: 2\n",
      "  Accuracy  : 0.88985\n",
      "  Precision : 0.89261\n",
      "  Recall    : 0.87962\n",
      "  F1        : 0.88468\n",
      "Round: 3\n",
      "  Accuracy  : 0.91738\n",
      "  Precision : 0.91262\n",
      "  Recall    : 0.90485\n",
      "  F1        : 0.90850\n",
      "Round: 4\n",
      "  Accuracy  : 0.89845\n",
      "  Precision : 0.90238\n",
      "  Recall    : 0.88980\n",
      "  F1        : 0.89453\n",
      "Round: 5\n",
      "  Accuracy  : 0.89329\n",
      "  Precision : 0.89528\n",
      "  Recall    : 0.87891\n",
      "  F1        : 0.88556\n",
      "CROSS VALIDATION RESULTS:\n",
      "- Accuracy  : 0.90120\n",
      "- Precision : 0.90303\n",
      "- Recall    : 0.88865\n",
      "- F1        : 0.89443\n"
     ]
    },
    {
     "data": {
      "text/plain": [
       "(0.9012048192771085, 0.903033484095722, 0.8886483345696078, 0.8944344881789963)"
      ]
     },
     "execution_count": 64,
     "metadata": {},
     "output_type": "execute_result"
    }
   ],
   "source": [
    "def cross_validate(data, labels, k=10, model='DecisionTree', verbose=True, config=None, args=None):\n",
    "    if model == 'Bagging':\n",
    "        model_class = Bagging\n",
    "    elif model == 'RandomForest':\n",
    "        model_class = RandomForest\n",
    "    else:\n",
    "        model_class = DecisionTree\n",
    "    indices = np.random.permutation(data.shape[0])\n",
    "    X = data[indices,:]\n",
    "    Y = labels[indices,:]\n",
    "    s_data = np.array_split(X, k, axis=0)\n",
    "    s_labels = np.array_split(Y, k, axis=0)\n",
    "    acc_s = 0.\n",
    "    prec_s = 0.\n",
    "    rec_s = 0.\n",
    "    f1_s = 0.\n",
    "    for i in range(k):\n",
    "        X_train = np.concatenate(s_data[:i] + s_data[i+1:], axis=0)\n",
    "        Y_train = np.concatenate(s_labels[:i] + s_labels[i+1:], axis=0)\n",
    "        X_test = np.array(s_data[i])\n",
    "        Y_test = np.array(s_labels[i])\n",
    "        if verbose == \"first_tree\":\n",
    "            if i == 0:\n",
    "                acc, prec, rec, f1 = evaluate(model_class, X_train, Y_train, X_test, Y_test, verbose=True, config=config, args=args)\n",
    "            else:\n",
    "                acc, prec, rec, f1 = evaluate(model_class, X_train, Y_train, X_test, Y_test, verbose=False, config=config, args=args)\n",
    "        elif verbose == True:\n",
    "            print('Round',i+1)\n",
    "            acc, prec, rec, f1 = evaluate(model_class, X_train, Y_train, X_test, Y_test, verbose=True, config=config, args=args)\n",
    "        else:\n",
    "            acc, prec, rec, f1 = evaluate(model_class, X_train, Y_train, X_test, Y_test, verbose=False, config=config, args=args)\n",
    "        acc_s += acc\n",
    "        prec_s += prec\n",
    "        rec_s += rec\n",
    "        f1_s += f1\n",
    "    print('\\nCROSS VALIDATION RESULTS:')\n",
    "    print(f'- Avg. Accuracy  : {acc_s/k:.5f}')\n",
    "    print(f'- Avg. Precision : {prec_s/k:.5f}')\n",
    "    print(f'- Avg. Recall    : {rec_s/k:.5f}')\n",
    "    print(f'- Avg. F1        : {f1_s/k:.5f}')\n",
    "    return acc_s/k, prec_s/k, rec_s/k, f1_s/k\n",
    "\n",
    "\n",
    "# cross_validate(X_train, y_train, model='RandomForest', k=5, verbose=True, args=[5, 150])\n",
    "cross_validate(X_train, y_train, model='Bagging', k=5, verbose=True, args=[7])\n"
   ]
  },
  {
   "attachments": {},
   "cell_type": "markdown",
   "metadata": {},
   "source": [
    "# Fine tuning"
   ]
  },
  {
   "cell_type": "code",
   "execution_count": null,
   "metadata": {},
   "outputs": [],
   "source": [
    "'''\n",
    "TODO (Viet)\n",
    "1. Find the best values \n",
    "    of N_THRESHOLD, H_THRESHOLD, H_REDUCTION_THRESHOLD for Decision tree\n",
    "2. Find the best values\n",
    "    of 'num_trees' and 'num_features' for Random forest\n",
    "3. Find the best values\n",
    "    of 'num_trees' for Bagging\n",
    "'''"
   ]
  },
  {
   "cell_type": "code",
   "execution_count": null,
   "metadata": {},
   "outputs": [],
   "source": [
    "'''\n",
    "TODO\n",
    "- Function to turn user inputs into vector ready to be put into 'predit' function (shape (1, 238)) (Lam)\n",
    "- Plot various values of hyperparams for dtree, bagging, rforest -> find optimal values & Confusion matrix (Loc)\n",
    "- Fix errors for functions to save and load models (by yaml) (Dai)\n",
    "'''"
   ]
  },
  {
   "attachments": {},
   "cell_type": "markdown",
   "metadata": {},
   "source": [
    "# Evaluation"
   ]
  },
  {
   "attachments": {},
   "cell_type": "markdown",
   "metadata": {},
   "source": [
    "**Warnings:** Don't run this part until very end"
   ]
  },
  {
   "cell_type": "code",
   "execution_count": 2,
   "metadata": {},
   "outputs": [],
   "source": [
    "evaluate(RandomForest, X_train, y_train, X_test, y_test, args=[5, 150])"
   ]
  },
  {
   "attachments": {},
   "cell_type": "markdown",
   "metadata": {},
   "source": [
    "# Inference"
   ]
  },
  {
   "cell_type": "code",
   "execution_count": 21,
   "metadata": {},
   "outputs": [],
   "source": [
    "rf_clf = RandomForest(num_trees=5, num_features=150)\n",
    "rf_clf.fit(X_train, y_train)\n",
    "\n",
    "# save model"
   ]
  },
  {
   "cell_type": "code",
   "execution_count": 22,
   "metadata": {},
   "outputs": [
    {
     "name": "stdout",
     "output_type": "stream",
     "text": [
      "(Enrolled: 1.0, Dropout: -1.0)\n",
      "- Prediction : -1.0\n",
      "- Actual     : -1.0\n"
     ]
    }
   ],
   "source": [
    "id = 123\n",
    "\n",
    "# load model\n",
    "\n",
    "print('(Graduated: 1.0, Dropout: -1.0)')\n",
    "print('- Prediction :', rf_clf.predict(X_test[id,:].reshape(1,-1))[0][0])\n",
    "print('- Actual     :', y_test[id][0])"
   ]
  },
  {
   "attachments": {},
   "cell_type": "markdown",
   "metadata": {},
   "source": [
    "# Save model"
   ]
  },
  {
   "cell_type": "code",
   "execution_count": null,
   "metadata": {},
   "outputs": [],
   "source": [
    "# TODO"
   ]
  }
 ],
 "metadata": {
  "kernelspec": {
   "display_name": "base",
   "language": "python",
   "name": "python3"
  },
  "language_info": {
   "codemirror_mode": {
    "name": "ipython",
    "version": 3
   },
   "file_extension": ".py",
   "mimetype": "text/x-python",
   "name": "python",
   "nbconvert_exporter": "python",
   "pygments_lexer": "ipython3",
   "version": "3.9.7"
  },
  "orig_nbformat": 4
 },
 "nbformat": 4,
 "nbformat_minor": 2
}
