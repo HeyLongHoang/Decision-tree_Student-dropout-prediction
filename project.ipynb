{
 "cells": [
  {
   "cell_type": "code",
   "execution_count": 150,
   "metadata": {},
   "outputs": [],
   "source": [
    "import pandas as pd\n",
    "import numpy as np\n",
    "%matplotlib inline\n",
    "import matplotlib.pyplot as plt"
   ]
  },
  {
   "attachments": {},
   "cell_type": "markdown",
   "metadata": {},
   "source": [
    "# Load data"
   ]
  },
  {
   "cell_type": "code",
   "execution_count": 151,
   "metadata": {},
   "outputs": [],
   "source": [
    "# categorical colummns\n",
    "cat_attrs = [\n",
    "    'Marital status',\n",
    "    'Application mode',\n",
    "    'Application order',\n",
    "    'Course',\n",
    "    'Daytime/evening attendance\\t',\n",
    "    'Previous qualification',\n",
    "    'Nacionality',\n",
    "    \"Mother's qualification\",\n",
    "    \"Father's qualification\",\n",
    "    \"Mother's occupation\",\n",
    "    \"Father's occupation\",\n",
    "    'Displaced',\n",
    "    'Educational special needs',\n",
    "    'Debtor',\n",
    "    'Tuition fees up to date',\n",
    "    'Gender',\n",
    "    'Scholarship holder',\n",
    "    'International',\n",
    "    # 'Age at enrollment',\n",
    "    # 'Curricular units 1st sem (grade)',\n",
    "    # 'Curricular units 2nd sem (grade)',\n",
    "]"
   ]
  },
  {
   "cell_type": "code",
   "execution_count": 152,
   "metadata": {},
   "outputs": [
    {
     "data": {
      "text/html": [
       "<div>\n",
       "<style scoped>\n",
       "    .dataframe tbody tr th:only-of-type {\n",
       "        vertical-align: middle;\n",
       "    }\n",
       "\n",
       "    .dataframe tbody tr th {\n",
       "        vertical-align: top;\n",
       "    }\n",
       "\n",
       "    .dataframe thead th {\n",
       "        text-align: right;\n",
       "    }\n",
       "</style>\n",
       "<table border=\"1\" class=\"dataframe\">\n",
       "  <thead>\n",
       "    <tr style=\"text-align: right;\">\n",
       "      <th></th>\n",
       "      <th>Marital status</th>\n",
       "      <th>Application mode</th>\n",
       "      <th>Application order</th>\n",
       "      <th>Course</th>\n",
       "      <th>Daytime/evening attendance\\t</th>\n",
       "      <th>Previous qualification</th>\n",
       "      <th>Previous qualification (grade)</th>\n",
       "      <th>Nacionality</th>\n",
       "      <th>Mother's qualification</th>\n",
       "      <th>Father's qualification</th>\n",
       "      <th>...</th>\n",
       "      <th>Gender</th>\n",
       "      <th>Scholarship holder</th>\n",
       "      <th>Age at enrollment</th>\n",
       "      <th>International</th>\n",
       "      <th>Curricular units 1st sem (grade)</th>\n",
       "      <th>Curricular units 2nd sem (grade)</th>\n",
       "      <th>Unemployment rate</th>\n",
       "      <th>Inflation rate</th>\n",
       "      <th>GDP</th>\n",
       "      <th>Target</th>\n",
       "    </tr>\n",
       "  </thead>\n",
       "  <tbody>\n",
       "    <tr>\n",
       "      <th>0</th>\n",
       "      <td>1</td>\n",
       "      <td>17</td>\n",
       "      <td>5</td>\n",
       "      <td>171</td>\n",
       "      <td>1</td>\n",
       "      <td>1</td>\n",
       "      <td>122.0</td>\n",
       "      <td>1</td>\n",
       "      <td>19</td>\n",
       "      <td>12</td>\n",
       "      <td>...</td>\n",
       "      <td>1</td>\n",
       "      <td>0</td>\n",
       "      <td>20</td>\n",
       "      <td>0</td>\n",
       "      <td>0.000000</td>\n",
       "      <td>0.000000</td>\n",
       "      <td>10.8</td>\n",
       "      <td>1.4</td>\n",
       "      <td>1.74</td>\n",
       "      <td>Dropout</td>\n",
       "    </tr>\n",
       "    <tr>\n",
       "      <th>1</th>\n",
       "      <td>1</td>\n",
       "      <td>15</td>\n",
       "      <td>1</td>\n",
       "      <td>9254</td>\n",
       "      <td>1</td>\n",
       "      <td>1</td>\n",
       "      <td>160.0</td>\n",
       "      <td>1</td>\n",
       "      <td>1</td>\n",
       "      <td>3</td>\n",
       "      <td>...</td>\n",
       "      <td>1</td>\n",
       "      <td>0</td>\n",
       "      <td>19</td>\n",
       "      <td>0</td>\n",
       "      <td>14.000000</td>\n",
       "      <td>13.666667</td>\n",
       "      <td>13.9</td>\n",
       "      <td>-0.3</td>\n",
       "      <td>0.79</td>\n",
       "      <td>Graduate</td>\n",
       "    </tr>\n",
       "    <tr>\n",
       "      <th>2</th>\n",
       "      <td>1</td>\n",
       "      <td>1</td>\n",
       "      <td>5</td>\n",
       "      <td>9070</td>\n",
       "      <td>1</td>\n",
       "      <td>1</td>\n",
       "      <td>122.0</td>\n",
       "      <td>1</td>\n",
       "      <td>37</td>\n",
       "      <td>37</td>\n",
       "      <td>...</td>\n",
       "      <td>1</td>\n",
       "      <td>0</td>\n",
       "      <td>19</td>\n",
       "      <td>0</td>\n",
       "      <td>0.000000</td>\n",
       "      <td>0.000000</td>\n",
       "      <td>10.8</td>\n",
       "      <td>1.4</td>\n",
       "      <td>1.74</td>\n",
       "      <td>Dropout</td>\n",
       "    </tr>\n",
       "    <tr>\n",
       "      <th>3</th>\n",
       "      <td>1</td>\n",
       "      <td>17</td>\n",
       "      <td>2</td>\n",
       "      <td>9773</td>\n",
       "      <td>1</td>\n",
       "      <td>1</td>\n",
       "      <td>122.0</td>\n",
       "      <td>1</td>\n",
       "      <td>38</td>\n",
       "      <td>37</td>\n",
       "      <td>...</td>\n",
       "      <td>0</td>\n",
       "      <td>0</td>\n",
       "      <td>20</td>\n",
       "      <td>0</td>\n",
       "      <td>13.428571</td>\n",
       "      <td>12.400000</td>\n",
       "      <td>9.4</td>\n",
       "      <td>-0.8</td>\n",
       "      <td>-3.12</td>\n",
       "      <td>Graduate</td>\n",
       "    </tr>\n",
       "    <tr>\n",
       "      <th>4</th>\n",
       "      <td>2</td>\n",
       "      <td>39</td>\n",
       "      <td>1</td>\n",
       "      <td>8014</td>\n",
       "      <td>0</td>\n",
       "      <td>1</td>\n",
       "      <td>100.0</td>\n",
       "      <td>1</td>\n",
       "      <td>37</td>\n",
       "      <td>38</td>\n",
       "      <td>...</td>\n",
       "      <td>0</td>\n",
       "      <td>0</td>\n",
       "      <td>45</td>\n",
       "      <td>0</td>\n",
       "      <td>12.333333</td>\n",
       "      <td>13.000000</td>\n",
       "      <td>13.9</td>\n",
       "      <td>-0.3</td>\n",
       "      <td>0.79</td>\n",
       "      <td>Graduate</td>\n",
       "    </tr>\n",
       "    <tr>\n",
       "      <th>...</th>\n",
       "      <td>...</td>\n",
       "      <td>...</td>\n",
       "      <td>...</td>\n",
       "      <td>...</td>\n",
       "      <td>...</td>\n",
       "      <td>...</td>\n",
       "      <td>...</td>\n",
       "      <td>...</td>\n",
       "      <td>...</td>\n",
       "      <td>...</td>\n",
       "      <td>...</td>\n",
       "      <td>...</td>\n",
       "      <td>...</td>\n",
       "      <td>...</td>\n",
       "      <td>...</td>\n",
       "      <td>...</td>\n",
       "      <td>...</td>\n",
       "      <td>...</td>\n",
       "      <td>...</td>\n",
       "      <td>...</td>\n",
       "      <td>...</td>\n",
       "    </tr>\n",
       "    <tr>\n",
       "      <th>4419</th>\n",
       "      <td>1</td>\n",
       "      <td>1</td>\n",
       "      <td>6</td>\n",
       "      <td>9773</td>\n",
       "      <td>1</td>\n",
       "      <td>1</td>\n",
       "      <td>125.0</td>\n",
       "      <td>1</td>\n",
       "      <td>1</td>\n",
       "      <td>1</td>\n",
       "      <td>...</td>\n",
       "      <td>1</td>\n",
       "      <td>0</td>\n",
       "      <td>19</td>\n",
       "      <td>0</td>\n",
       "      <td>13.600000</td>\n",
       "      <td>12.666667</td>\n",
       "      <td>15.5</td>\n",
       "      <td>2.8</td>\n",
       "      <td>-4.06</td>\n",
       "      <td>Graduate</td>\n",
       "    </tr>\n",
       "    <tr>\n",
       "      <th>4420</th>\n",
       "      <td>1</td>\n",
       "      <td>1</td>\n",
       "      <td>2</td>\n",
       "      <td>9773</td>\n",
       "      <td>1</td>\n",
       "      <td>1</td>\n",
       "      <td>120.0</td>\n",
       "      <td>105</td>\n",
       "      <td>1</td>\n",
       "      <td>1</td>\n",
       "      <td>...</td>\n",
       "      <td>0</td>\n",
       "      <td>0</td>\n",
       "      <td>18</td>\n",
       "      <td>1</td>\n",
       "      <td>12.000000</td>\n",
       "      <td>11.000000</td>\n",
       "      <td>11.1</td>\n",
       "      <td>0.6</td>\n",
       "      <td>2.02</td>\n",
       "      <td>Dropout</td>\n",
       "    </tr>\n",
       "    <tr>\n",
       "      <th>4421</th>\n",
       "      <td>1</td>\n",
       "      <td>1</td>\n",
       "      <td>1</td>\n",
       "      <td>9500</td>\n",
       "      <td>1</td>\n",
       "      <td>1</td>\n",
       "      <td>154.0</td>\n",
       "      <td>1</td>\n",
       "      <td>37</td>\n",
       "      <td>37</td>\n",
       "      <td>...</td>\n",
       "      <td>0</td>\n",
       "      <td>1</td>\n",
       "      <td>30</td>\n",
       "      <td>0</td>\n",
       "      <td>14.912500</td>\n",
       "      <td>13.500000</td>\n",
       "      <td>13.9</td>\n",
       "      <td>-0.3</td>\n",
       "      <td>0.79</td>\n",
       "      <td>Dropout</td>\n",
       "    </tr>\n",
       "    <tr>\n",
       "      <th>4422</th>\n",
       "      <td>1</td>\n",
       "      <td>1</td>\n",
       "      <td>1</td>\n",
       "      <td>9147</td>\n",
       "      <td>1</td>\n",
       "      <td>1</td>\n",
       "      <td>180.0</td>\n",
       "      <td>1</td>\n",
       "      <td>37</td>\n",
       "      <td>37</td>\n",
       "      <td>...</td>\n",
       "      <td>0</td>\n",
       "      <td>1</td>\n",
       "      <td>20</td>\n",
       "      <td>0</td>\n",
       "      <td>13.800000</td>\n",
       "      <td>12.000000</td>\n",
       "      <td>9.4</td>\n",
       "      <td>-0.8</td>\n",
       "      <td>-3.12</td>\n",
       "      <td>Graduate</td>\n",
       "    </tr>\n",
       "    <tr>\n",
       "      <th>4423</th>\n",
       "      <td>1</td>\n",
       "      <td>10</td>\n",
       "      <td>1</td>\n",
       "      <td>9773</td>\n",
       "      <td>1</td>\n",
       "      <td>1</td>\n",
       "      <td>152.0</td>\n",
       "      <td>22</td>\n",
       "      <td>38</td>\n",
       "      <td>37</td>\n",
       "      <td>...</td>\n",
       "      <td>0</td>\n",
       "      <td>0</td>\n",
       "      <td>22</td>\n",
       "      <td>1</td>\n",
       "      <td>11.666667</td>\n",
       "      <td>13.000000</td>\n",
       "      <td>12.7</td>\n",
       "      <td>3.7</td>\n",
       "      <td>-1.70</td>\n",
       "      <td>Graduate</td>\n",
       "    </tr>\n",
       "  </tbody>\n",
       "</table>\n",
       "<p>4424 rows × 27 columns</p>\n",
       "</div>"
      ],
      "text/plain": [
       "     Marital status Application mode Application order Course  \\\n",
       "0                 1               17                 5    171   \n",
       "1                 1               15                 1   9254   \n",
       "2                 1                1                 5   9070   \n",
       "3                 1               17                 2   9773   \n",
       "4                 2               39                 1   8014   \n",
       "...             ...              ...               ...    ...   \n",
       "4419              1                1                 6   9773   \n",
       "4420              1                1                 2   9773   \n",
       "4421              1                1                 1   9500   \n",
       "4422              1                1                 1   9147   \n",
       "4423              1               10                 1   9773   \n",
       "\n",
       "     Daytime/evening attendance\\t Previous qualification  \\\n",
       "0                               1                      1   \n",
       "1                               1                      1   \n",
       "2                               1                      1   \n",
       "3                               1                      1   \n",
       "4                               0                      1   \n",
       "...                           ...                    ...   \n",
       "4419                            1                      1   \n",
       "4420                            1                      1   \n",
       "4421                            1                      1   \n",
       "4422                            1                      1   \n",
       "4423                            1                      1   \n",
       "\n",
       "      Previous qualification (grade) Nacionality Mother's qualification  \\\n",
       "0                              122.0           1                     19   \n",
       "1                              160.0           1                      1   \n",
       "2                              122.0           1                     37   \n",
       "3                              122.0           1                     38   \n",
       "4                              100.0           1                     37   \n",
       "...                              ...         ...                    ...   \n",
       "4419                           125.0           1                      1   \n",
       "4420                           120.0         105                      1   \n",
       "4421                           154.0           1                     37   \n",
       "4422                           180.0           1                     37   \n",
       "4423                           152.0          22                     38   \n",
       "\n",
       "     Father's qualification  ... Gender Scholarship holder  Age at enrollment  \\\n",
       "0                        12  ...      1                  0                 20   \n",
       "1                         3  ...      1                  0                 19   \n",
       "2                        37  ...      1                  0                 19   \n",
       "3                        37  ...      0                  0                 20   \n",
       "4                        38  ...      0                  0                 45   \n",
       "...                     ...  ...    ...                ...                ...   \n",
       "4419                      1  ...      1                  0                 19   \n",
       "4420                      1  ...      0                  0                 18   \n",
       "4421                     37  ...      0                  1                 30   \n",
       "4422                     37  ...      0                  1                 20   \n",
       "4423                     37  ...      0                  0                 22   \n",
       "\n",
       "     International Curricular units 1st sem (grade)  \\\n",
       "0                0                         0.000000   \n",
       "1                0                        14.000000   \n",
       "2                0                         0.000000   \n",
       "3                0                        13.428571   \n",
       "4                0                        12.333333   \n",
       "...            ...                              ...   \n",
       "4419             0                        13.600000   \n",
       "4420             1                        12.000000   \n",
       "4421             0                        14.912500   \n",
       "4422             0                        13.800000   \n",
       "4423             1                        11.666667   \n",
       "\n",
       "     Curricular units 2nd sem (grade) Unemployment rate Inflation rate   GDP  \\\n",
       "0                            0.000000              10.8            1.4  1.74   \n",
       "1                           13.666667              13.9           -0.3  0.79   \n",
       "2                            0.000000              10.8            1.4  1.74   \n",
       "3                           12.400000               9.4           -0.8 -3.12   \n",
       "4                           13.000000              13.9           -0.3  0.79   \n",
       "...                               ...               ...            ...   ...   \n",
       "4419                        12.666667              15.5            2.8 -4.06   \n",
       "4420                        11.000000              11.1            0.6  2.02   \n",
       "4421                        13.500000              13.9           -0.3  0.79   \n",
       "4422                        12.000000               9.4           -0.8 -3.12   \n",
       "4423                        13.000000              12.7            3.7 -1.70   \n",
       "\n",
       "        Target  \n",
       "0      Dropout  \n",
       "1     Graduate  \n",
       "2      Dropout  \n",
       "3     Graduate  \n",
       "4     Graduate  \n",
       "...        ...  \n",
       "4419  Graduate  \n",
       "4420   Dropout  \n",
       "4421   Dropout  \n",
       "4422  Graduate  \n",
       "4423  Graduate  \n",
       "\n",
       "[4424 rows x 27 columns]"
      ]
     },
     "execution_count": 152,
     "metadata": {},
     "output_type": "execute_result"
    }
   ],
   "source": [
    "student = pd.read_csv('datasets/student-dropout/data.csv', sep=';')\n",
    "# student = student[student['Target'] != 'Enrolled'] # remove 'enrolled' value\n",
    "student = student.drop(['Curricular units 1st sem (credited)',\n",
    "                        'Curricular units 1st sem (enrolled)',\n",
    "                        'Curricular units 1st sem (evaluations)',\n",
    "                        'Curricular units 1st sem (approved)',\n",
    "                        'Curricular units 1st sem (without evaluations)',\n",
    "                        'Curricular units 2nd sem (credited)',\n",
    "                        'Curricular units 2nd sem (enrolled)',\n",
    "                        'Curricular units 2nd sem (evaluations)',\n",
    "                        'Curricular units 2nd sem (approved)',\n",
    "                        'Curricular units 2nd sem (without evaluations)',\n",
    "                        ], axis=1)\n",
    "\n",
    "for attr in cat_attrs:\n",
    "    student[attr] = student[attr].astype('category')\n",
    "\n",
    "student"
   ]
  },
  {
   "cell_type": "code",
   "execution_count": 153,
   "metadata": {},
   "outputs": [
    {
     "name": "stdout",
     "output_type": "stream",
     "text": [
      "<class 'pandas.core.frame.DataFrame'>\n",
      "RangeIndex: 4424 entries, 0 to 4423\n",
      "Data columns (total 27 columns):\n",
      " #   Column                            Non-Null Count  Dtype   \n",
      "---  ------                            --------------  -----   \n",
      " 0   Marital status                    4424 non-null   category\n",
      " 1   Application mode                  4424 non-null   category\n",
      " 2   Application order                 4424 non-null   category\n",
      " 3   Course                            4424 non-null   category\n",
      " 4   Daytime/evening attendance\t       4424 non-null   category\n",
      " 5   Previous qualification            4424 non-null   category\n",
      " 6   Previous qualification (grade)    4424 non-null   float64 \n",
      " 7   Nacionality                       4424 non-null   category\n",
      " 8   Mother's qualification            4424 non-null   category\n",
      " 9   Father's qualification            4424 non-null   category\n",
      " 10  Mother's occupation               4424 non-null   category\n",
      " 11  Father's occupation               4424 non-null   category\n",
      " 12  Admission grade                   4424 non-null   float64 \n",
      " 13  Displaced                         4424 non-null   category\n",
      " 14  Educational special needs         4424 non-null   category\n",
      " 15  Debtor                            4424 non-null   category\n",
      " 16  Tuition fees up to date           4424 non-null   category\n",
      " 17  Gender                            4424 non-null   category\n",
      " 18  Scholarship holder                4424 non-null   category\n",
      " 19  Age at enrollment                 4424 non-null   int64   \n",
      " 20  International                     4424 non-null   category\n",
      " 21  Curricular units 1st sem (grade)  4424 non-null   float64 \n",
      " 22  Curricular units 2nd sem (grade)  4424 non-null   float64 \n",
      " 23  Unemployment rate                 4424 non-null   float64 \n",
      " 24  Inflation rate                    4424 non-null   float64 \n",
      " 25  GDP                               4424 non-null   float64 \n",
      " 26  Target                            4424 non-null   object  \n",
      "dtypes: category(18), float64(7), int64(1), object(1)\n",
      "memory usage: 398.5+ KB\n"
     ]
    }
   ],
   "source": [
    "student.info()"
   ]
  },
  {
   "cell_type": "code",
   "execution_count": 154,
   "metadata": {},
   "outputs": [
    {
     "data": {
      "text/plain": [
       "Graduate    2209\n",
       "Dropout     1421\n",
       "Enrolled     794\n",
       "Name: Target, dtype: int64"
      ]
     },
     "execution_count": 154,
     "metadata": {},
     "output_type": "execute_result"
    }
   ],
   "source": [
    "student.Target.value_counts()"
   ]
  },
  {
   "cell_type": "code",
   "execution_count": 155,
   "metadata": {},
   "outputs": [],
   "source": [
    "# student.hist(bins=50, figsize=(20,20))"
   ]
  },
  {
   "attachments": {},
   "cell_type": "markdown",
   "metadata": {},
   "source": [
    "# Split train and test set"
   ]
  },
  {
   "cell_type": "code",
   "execution_count": 156,
   "metadata": {},
   "outputs": [],
   "source": [
    "from sklearn.model_selection import StratifiedShuffleSplit\n",
    "\n",
    "strat_split = StratifiedShuffleSplit(n_splits=1, test_size=0.2, random_state=42)\n",
    "for train_idxs, test_idxs in strat_split.split(student, student['Target']):\n",
    "    strat_train_set = student.iloc[train_idxs]\n",
    "    strat_test_set = student.iloc[test_idxs]"
   ]
  },
  {
   "attachments": {},
   "cell_type": "markdown",
   "metadata": {},
   "source": [
    "Compare distribution of train set and test set"
   ]
  },
  {
   "cell_type": "code",
   "execution_count": 157,
   "metadata": {},
   "outputs": [
    {
     "data": {
      "text/plain": [
       "Graduate    0.499294\n",
       "Dropout     0.321277\n",
       "Enrolled    0.179429\n",
       "Name: Target, dtype: float64"
      ]
     },
     "execution_count": 157,
     "metadata": {},
     "output_type": "execute_result"
    }
   ],
   "source": [
    "# Train set\n",
    "strat_train_set.Target.value_counts() / len(strat_train_set)"
   ]
  },
  {
   "cell_type": "code",
   "execution_count": 158,
   "metadata": {},
   "outputs": [
    {
     "data": {
      "text/plain": [
       "Graduate    0.499435\n",
       "Dropout     0.320904\n",
       "Enrolled    0.179661\n",
       "Name: Target, dtype: float64"
      ]
     },
     "execution_count": 158,
     "metadata": {},
     "output_type": "execute_result"
    }
   ],
   "source": [
    "# Test set\n",
    "strat_test_set.Target.value_counts() / len(strat_test_set)"
   ]
  },
  {
   "cell_type": "code",
   "execution_count": 159,
   "metadata": {},
   "outputs": [],
   "source": [
    "X_train = strat_train_set.drop(\"Target\", axis=1)\n",
    "y_train = strat_train_set[\"Target\"].copy().values"
   ]
  },
  {
   "cell_type": "code",
   "execution_count": 160,
   "metadata": {},
   "outputs": [],
   "source": [
    "X_test = strat_test_set.drop('Target', axis=1)\n",
    "y_test = strat_test_set.Target.copy().values"
   ]
  },
  {
   "cell_type": "code",
   "execution_count": 161,
   "metadata": {},
   "outputs": [
    {
     "name": "stdout",
     "output_type": "stream",
     "text": [
      "X_train: (3539, 26)\n",
      "y_train: (3539,)\n",
      "X_test (885, 26)\n",
      "y_test: (885,)\n"
     ]
    }
   ],
   "source": [
    "print('X_train:', X_train.shape)\n",
    "print('y_train:', y_train.shape)\n",
    "print('X_test', X_test.shape)\n",
    "print('y_test:', y_test.shape)"
   ]
  },
  {
   "attachments": {},
   "cell_type": "markdown",
   "metadata": {},
   "source": [
    "# Preprocessing"
   ]
  },
  {
   "attachments": {},
   "cell_type": "markdown",
   "metadata": {},
   "source": [
    "## Categorical attributes"
   ]
  },
  {
   "attachments": {},
   "cell_type": "markdown",
   "metadata": {},
   "source": [
    "### An example on 'Marital status'"
   ]
  },
  {
   "attachments": {},
   "cell_type": "markdown",
   "metadata": {},
   "source": [
    "**Notes:** When discrete values in an attribute don't have an inherent order, use One Hot encoding. For example, values in 'Marital status', even though ranging from 1 to 6, each has its own value and doesn't have a meaning of smaller or larger"
   ]
  },
  {
   "cell_type": "code",
   "execution_count": 162,
   "metadata": {},
   "outputs": [],
   "source": [
    "# marital_stat = X_train[['Marital status']]\n",
    "# marital_stat.value_counts()\n",
    "\n",
    "# from sklearn.preprocessing import OrdinalEncoder\n",
    "\n",
    "# ordinal_encoder = OrdinalEncoder()\n",
    "# marital_stat_enc = ordinal_encoder.fit_transform(marital_stat)\n",
    "# print(marital_stat_enc[:10])\n",
    "\n",
    "# print(ordinal_encoder.categories_)"
   ]
  },
  {
   "cell_type": "code",
   "execution_count": 163,
   "metadata": {},
   "outputs": [],
   "source": [
    "# One hot encoding\n",
    "marital_stat = marital_stat = X_train[['Marital status']]"
   ]
  },
  {
   "cell_type": "code",
   "execution_count": 164,
   "metadata": {},
   "outputs": [
    {
     "data": {
      "text/plain": [
       "<3539x6 sparse matrix of type '<class 'numpy.float64'>'\n",
       "\twith 3539 stored elements in Compressed Sparse Row format>"
      ]
     },
     "execution_count": 164,
     "metadata": {},
     "output_type": "execute_result"
    }
   ],
   "source": [
    "from sklearn.preprocessing import OneHotEncoder\n",
    "cat_encoder = OneHotEncoder()\n",
    "marital_stat_1hot = cat_encoder.fit_transform(marital_stat)\n",
    "marital_stat_1hot"
   ]
  },
  {
   "cell_type": "code",
   "execution_count": 165,
   "metadata": {},
   "outputs": [
    {
     "data": {
      "text/plain": [
       "[array([1, 2, 3, 4, 5, 6])]"
      ]
     },
     "execution_count": 165,
     "metadata": {},
     "output_type": "execute_result"
    }
   ],
   "source": [
    "cat_encoder.categories_"
   ]
  },
  {
   "attachments": {},
   "cell_type": "markdown",
   "metadata": {},
   "source": [
    "## Full pipeline"
   ]
  },
  {
   "attachments": {},
   "cell_type": "markdown",
   "metadata": {},
   "source": [
    "Seperate attributes into different types for specific preprocessing"
   ]
  },
  {
   "cell_type": "code",
   "execution_count": 166,
   "metadata": {},
   "outputs": [],
   "source": [
    "# Categorical attributes\n",
    "unordered_cat_attrs = [\n",
    "    'Marital status',\n",
    "    'Application mode',\n",
    "    'Application order',\n",
    "    'Course',\n",
    "    'Daytime/evening attendance\\t',\n",
    "    'Previous qualification',\n",
    "    'Nacionality',\n",
    "    \"Mother's qualification\",\n",
    "    \"Father's qualification\",\n",
    "    \"Mother's occupation\",\n",
    "    \"Father's occupation\",\n",
    "    'Displaced',\n",
    "    'Educational special needs',\n",
    "    'Debtor',\n",
    "    'Tuition fees up to date',\n",
    "    'Gender',\n",
    "    'Scholarship holder',\n",
    "    'International',\n",
    "]\n",
    "\n",
    "ordered_cat_attrs = [\n",
    "    'Age at enrollment',\n",
    "    'Curricular units 1st sem (grade)',\n",
    "    'Curricular units 2nd sem (grade)',\n",
    "]\n",
    "\n",
    "num_attrs = [attr for attr in list(X_train) if attr not in unordered_cat_attrs and attr not in ordered_cat_attrs]"
   ]
  },
  {
   "cell_type": "code",
   "execution_count": 167,
   "metadata": {},
   "outputs": [
    {
     "name": "stdout",
     "output_type": "stream",
     "text": [
      "Number of:\n",
      "- Unordered categorial attributes: 18\n",
      "- Ordered categorical attributes: 3\n",
      "- Numerical attributes: 5\n",
      "TOTAL: 26\n"
     ]
    }
   ],
   "source": [
    "print('Number of:')\n",
    "print('- Unordered categorial attributes:', len(unordered_cat_attrs))\n",
    "print('- Ordered categorical attributes:', len(ordered_cat_attrs))\n",
    "print('- Numerical attributes:', len(num_attrs))\n",
    "print('TOTAL:', len(unordered_cat_attrs) + len(ordered_cat_attrs) + len(num_attrs))"
   ]
  },
  {
   "attachments": {},
   "cell_type": "markdown",
   "metadata": {},
   "source": [
    "Create pipeline"
   ]
  },
  {
   "cell_type": "code",
   "execution_count": 168,
   "metadata": {},
   "outputs": [],
   "source": [
    "# For unordered categorical attributes\n",
    "from sklearn.pipeline import Pipeline\n",
    "from sklearn.preprocessing import OneHotEncoder\n",
    "\n",
    "unordered_cat_pipeline = Pipeline([\n",
    "    ('one_hot', OneHotEncoder())\n",
    "])"
   ]
  },
  {
   "cell_type": "code",
   "execution_count": 169,
   "metadata": {},
   "outputs": [],
   "source": [
    "# For numerical attributes\n",
    "from sklearn.preprocessing import StandardScaler\n",
    "\n",
    "num_pipeline = Pipeline([\n",
    "    ('std_scaler', StandardScaler()),\n",
    "])"
   ]
  },
  {
   "cell_type": "code",
   "execution_count": 170,
   "metadata": {},
   "outputs": [],
   "source": [
    "from sklearn.compose import ColumnTransformer\n",
    "\n",
    "full_pipeline = ColumnTransformer([\n",
    "    ('num', num_pipeline, num_attrs + ordered_cat_attrs),\n",
    "    ('unordered_cat', unordered_cat_pipeline, unordered_cat_attrs)\n",
    "])\n",
    "\n",
    "X_train_ready = full_pipeline.fit_transform(X_train)"
   ]
  },
  {
   "attachments": {},
   "cell_type": "markdown",
   "metadata": {},
   "source": [
    "Encode target labels"
   ]
  },
  {
   "cell_type": "code",
   "execution_count": 171,
   "metadata": {},
   "outputs": [
    {
     "data": {
      "text/plain": [
       "array([[2],\n",
       "       [0],\n",
       "       [1],\n",
       "       [2],\n",
       "       [2],\n",
       "       [1],\n",
       "       [0],\n",
       "       [0],\n",
       "       [0],\n",
       "       [0]], dtype=int8)"
      ]
     },
     "execution_count": 171,
     "metadata": {},
     "output_type": "execute_result"
    }
   ],
   "source": [
    "from sklearn.preprocessing import OrdinalEncoder\n",
    "\n",
    "ordinal_encoder = OrdinalEncoder(dtype=np.int8)\n",
    "y_train_ready = ordinal_encoder.fit_transform(y_train.reshape(-1,1))\n",
    "y_train_ready[:10]"
   ]
  },
  {
   "cell_type": "code",
   "execution_count": 172,
   "metadata": {},
   "outputs": [],
   "source": [
    "y_train_ready = y_train_ready.reshape(-1)"
   ]
  },
  {
   "cell_type": "code",
   "execution_count": 173,
   "metadata": {},
   "outputs": [
    {
     "data": {
      "text/plain": [
       "[array(['Dropout', 'Enrolled', 'Graduate'], dtype=object)]"
      ]
     },
     "execution_count": 173,
     "metadata": {},
     "output_type": "execute_result"
    }
   ],
   "source": [
    "ordinal_encoder.categories_"
   ]
  },
  {
   "attachments": {},
   "cell_type": "markdown",
   "metadata": {},
   "source": [
    "# Train"
   ]
  },
  {
   "cell_type": "code",
   "execution_count": 174,
   "metadata": {},
   "outputs": [],
   "source": [
    "from sklearn import tree\n",
    "\n",
    "decision_tree_clf = tree.DecisionTreeClassifier()\n",
    "# decision_tree_clf.fit(X_train_ready, y_train_ready)"
   ]
  },
  {
   "cell_type": "code",
   "execution_count": 175,
   "metadata": {},
   "outputs": [],
   "source": [
    "from sklearn.ensemble import RandomForestClassifier\n",
    "\n",
    "random_forest_clf = RandomForestClassifier()\n",
    "# random_forest_clf.fit(X_train_ready, y_train_ready)"
   ]
  },
  {
   "cell_type": "code",
   "execution_count": 177,
   "metadata": {},
   "outputs": [
    {
     "data": {
      "text/plain": [
       "array([0.71186441, 0.74491525, 0.73452078])"
      ]
     },
     "execution_count": 177,
     "metadata": {},
     "output_type": "execute_result"
    }
   ],
   "source": [
    "from sklearn.model_selection import cross_val_score\n",
    "\n",
    "cross_val_score(decision_tree_clf, X_train_ready, y_train_ready, cv=3, scoring='accuracy')\n",
    "# cross_val_score(random_forest_clf, X_train_ready, y_train_ready, cv=3, scoring='accuracy')"
   ]
  },
  {
   "attachments": {},
   "cell_type": "markdown",
   "metadata": {},
   "source": [
    "## Evaluation"
   ]
  },
  {
   "cell_type": "code",
   "execution_count": null,
   "metadata": {},
   "outputs": [],
   "source": [
    "# TODO"
   ]
  }
 ],
 "metadata": {
  "kernelspec": {
   "display_name": "base",
   "language": "python",
   "name": "python3"
  },
  "language_info": {
   "codemirror_mode": {
    "name": "ipython",
    "version": 3
   },
   "file_extension": ".py",
   "mimetype": "text/x-python",
   "name": "python",
   "nbconvert_exporter": "python",
   "pygments_lexer": "ipython3",
   "version": "3.9.7"
  },
  "orig_nbformat": 4
 },
 "nbformat": 4,
 "nbformat_minor": 2
}
